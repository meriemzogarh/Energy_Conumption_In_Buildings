{
 "cells": [
  {
   "cell_type": "code",
   "execution_count": 1,
   "metadata": {},
   "outputs": [
    {
     "name": "stdout",
     "output_type": "stream",
     "text": [
      "Temps d'exécution sur CPU : 12.75890302658081 secondes\n",
      "Temps d'exécution sur GPU : 4.759001731872559 secondes\n",
      "Les résultats CPU et GPU sont identiques.\n"
     ]
    }
   ],
   "source": [
    "import time\n",
    "import numpy as np\n",
    "import torch\n",
    "\n",
    "# Fonction de calcul intensif qu'on souhaite accélérer avec CUDA\n",
    "def intensive_calculation(data):\n",
    "    result = 0\n",
    "    for _ in range(10000):\n",
    "        # Exemple de calcul intensif\n",
    "        result += np.sum(data)  \n",
    "    return result\n",
    "\n",
    "# Générer des données pour l'exemple\n",
    "data = np.random.rand(1000, 1000)\n",
    "\n",
    "# Exécution sur CPU\n",
    "start_time_cpu = time.time()\n",
    "result_cpu = intensive_calculation(data)\n",
    "end_time_cpu = time.time()\n",
    "cpu_execution_time = end_time_cpu - start_time_cpu\n",
    "\n",
    "# Transférer les données sur GPU\n",
    "data_gpu = torch.tensor(data, dtype=torch.float32)\n",
    "\n",
    "# Exécution sur GPU\n",
    "start_time_gpu = time.time()\n",
    "# Transférer les résultats de nouveau sur CPU\n",
    "result_gpu = intensive_calculation(data_gpu.cpu().numpy())  \n",
    "end_time_gpu = time.time()\n",
    "gpu_execution_time = end_time_gpu - start_time_gpu\n",
    "\n",
    "# Comparaison des temps d'exécution\n",
    "print(\"Temps d'exécution sur CPU :\", cpu_execution_time, \"secondes\")\n",
    "print(\"Temps d'exécution sur GPU :\", gpu_execution_time, \"secondes\")\n",
    "\n",
    "# Vérification des résultats (les résultats doivent être identiques)\n",
    "if np.allclose(result_cpu, result_gpu):\n",
    "    print(\"Les résultats CPU et GPU sont identiques.\")\n",
    "else:\n",
    "    print(\"Les résultats CPU et GPU sont différents.\")\n"
   ]
  }
 ],
 "metadata": {
  "kernelspec": {
   "display_name": "base",
   "language": "python",
   "name": "python3"
  },
  "language_info": {
   "codemirror_mode": {
    "name": "ipython",
    "version": 3
   },
   "file_extension": ".py",
   "mimetype": "text/x-python",
   "name": "python",
   "nbconvert_exporter": "python",
   "pygments_lexer": "ipython3",
   "version": "3.9.13"
  },
  "orig_nbformat": 4
 },
 "nbformat": 4,
 "nbformat_minor": 2
}
